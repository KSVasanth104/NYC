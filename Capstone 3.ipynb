{
 "cells": [
  {
   "cell_type": "code",
   "execution_count": 2,
   "id": "5263fe70",
   "metadata": {},
   "outputs": [],
   "source": [
    "import numpy as np\n",
    "import pandas as pd\n",
    "import matplotlib.pyplot as plt\n",
    "import datetime as dt\n",
    "%matplotlib inline"
   ]
  },
  {
   "cell_type": "markdown",
   "id": "f078fabb",
   "metadata": {},
   "source": [
    "## Importing dataset"
   ]
  },
  {
   "cell_type": "code",
   "execution_count": 6,
   "id": "74f98ee9",
   "metadata": {},
   "outputs": [],
   "source": [
    "prices = pd.read_csv('prices.csv')\n",
    "rooms = pd.read_excel('room types.xlsx')\n",
    "review = pd.read_table('reviews.tsv')"
   ]
  },
  {
   "cell_type": "markdown",
   "id": "0b64c83b",
   "metadata": {},
   "source": [
    "### Data Cleaning"
   ]
  },
  {
   "cell_type": "markdown",
   "id": "e6bf5ea3",
   "metadata": {},
   "source": [
    "**Price dataset cleaning**"
   ]
  },
  {
   "cell_type": "code",
   "execution_count": 3,
   "id": "60e68506",
   "metadata": {},
   "outputs": [],
   "source": [
    "# steps to follow\n",
    "# 1. check for datatype of each attributes\n",
    "# 2. remove dollars from price column\n",
    "# 3. channge datatpe of price column into int\n",
    "# 4. check for outlier in price column\n",
    "# 5. split nbhood into bhorough and cities\n",
    "# 6. check for duplicates"
   ]
  },
  {
   "cell_type": "code",
   "execution_count": 4,
   "id": "0a803b8d",
   "metadata": {},
   "outputs": [
    {
     "name": "stdout",
     "output_type": "stream",
     "text": [
      "<class 'pandas.core.frame.DataFrame'>\n",
      "RangeIndex: 25202 entries, 0 to 25201\n",
      "Data columns (total 8 columns):\n",
      " #   Column           Non-Null Count  Dtype  \n",
      "---  ------           --------------  -----  \n",
      " 0   Unnamed: 0       25202 non-null  int64  \n",
      " 1   listing_id       25202 non-null  int64  \n",
      " 2   price            25202 non-null  int64  \n",
      " 3   borough          25202 non-null  object \n",
      " 4   neighbourhood    25202 non-null  object \n",
      " 5   price_per_month  25202 non-null  float64\n",
      " 6   latitude         25202 non-null  float64\n",
      " 7   longitude        25202 non-null  float64\n",
      "dtypes: float64(3), int64(3), object(2)\n",
      "memory usage: 1.5+ MB\n"
     ]
    }
   ],
   "source": [
    "prices.info()\n",
    "\n",
    "# change listing_id into string\n",
    "# change price into int"
   ]
  },
  {
   "cell_type": "code",
   "execution_count": 5,
   "id": "23dee0fa",
   "metadata": {},
   "outputs": [],
   "source": [
    "prices.listing_id=prices.listing_id.astype('str')"
   ]
  },
  {
   "cell_type": "code",
   "execution_count": 6,
   "id": "77bf8572",
   "metadata": {},
   "outputs": [],
   "source": [
    "# Converting price from object to int type\n",
    "\n",
    "prices['price_dollars']=prices.price.str.split(' ').str.get(0).astype(int)\n",
    "prices.drop('price',axis=1,inplace=True)"
   ]
  },
  {
   "cell_type": "code",
   "execution_count": 7,
   "id": "f4dd002e",
   "metadata": {},
   "outputs": [
    {
     "name": "stdout",
     "output_type": "stream",
     "text": [
      "<class 'pandas.core.frame.DataFrame'>\n",
      "RangeIndex: 25209 entries, 0 to 25208\n",
      "Data columns (total 3 columns):\n",
      " #   Column         Non-Null Count  Dtype \n",
      "---  ------         --------------  ----- \n",
      " 0   listing_id     25209 non-null  object\n",
      " 1   nbhood_full    25209 non-null  object\n",
      " 2   price_dollars  25209 non-null  int32 \n",
      "dtypes: int32(1), object(2)\n",
      "memory usage: 492.5+ KB\n"
     ]
    }
   ],
   "source": [
    "prices.info()"
   ]
  },
  {
   "cell_type": "code",
   "execution_count": 8,
   "id": "c0aaa83f",
   "metadata": {},
   "outputs": [],
   "source": [
    "# spliting nbhood into bhorough and areas\n",
    "\n",
    "prices['boroughs'] = ''\n",
    "prices['areas'] = ''\n",
    "prices.loc[:,'boroughs']=prices.nbhood_full.str.split(',').str.get(0).str.strip()\n",
    "prices.loc[:,'areas']=prices.nbhood_full.str.split(',').str.get(1).str.strip()\n",
    "\n",
    "# drop nbhood_full\n",
    "\n",
    "prices_updated1=prices.drop('nbhood_full',axis=1)"
   ]
  },
  {
   "cell_type": "code",
   "execution_count": 9,
   "id": "6bb71cf6",
   "metadata": {},
   "outputs": [
    {
     "data": {
      "text/plain": [
       "count    25209.000000\n",
       "mean       141.777936\n",
       "std        147.349137\n",
       "min          0.000000\n",
       "25%         69.000000\n",
       "50%        105.000000\n",
       "75%        175.000000\n",
       "max       7500.000000\n",
       "Name: price_dollars, dtype: float64"
      ]
     },
     "execution_count": 9,
     "metadata": {},
     "output_type": "execute_result"
    }
   ],
   "source": [
    "# checking for anomalys in the price column\n",
    "\n",
    "prices_updated1.price_dollars.describe()\n",
    "\n",
    "# filter price value = zero and drop them\n",
    "# check the price distribution for outliers"
   ]
  },
  {
   "cell_type": "code",
   "execution_count": 10,
   "id": "d34f59ca",
   "metadata": {},
   "outputs": [],
   "source": [
    "# Dropping price values less than zero\n",
    "\n",
    "non_zero_price = prices_updated1['price_dollars']>0\n",
    "prices_filtered1 = prices_updated1.loc[non_zero_price]\n",
    "prices_filtered1.reset_index(drop = True,inplace =True)"
   ]
  },
  {
   "cell_type": "code",
   "execution_count": 11,
   "id": "a36087b8",
   "metadata": {},
   "outputs": [
    {
     "data": {
      "text/plain": [
       "<matplotlib.collections.PathCollection at 0x11bd9c83bb0>"
      ]
     },
     "execution_count": 11,
     "metadata": {},
     "output_type": "execute_result"
    },
    {
     "data": {
      "image/png": "[encoded data removed]",
      "text/plain": [
       "<Figure size 432x288 with 1 Axes>"
      ]
     },
     "metadata": {
      "needs_background": "light"
     },
     "output_type": "display_data"
    }
   ],
   "source": [
    "plt.scatter(range(len(prices_filtered1)),prices_filtered1['price_dollars'])"
   ]
  },
  {
   "cell_type": "code",
   "execution_count": 13,
   "id": "b99fc85a",
   "metadata": {},
   "outputs": [],
   "source": [
    "# filtering price below 7000\n",
    "\n",
    "price_final=prices_filtered1[prices_filtered1['price_dollars']<=7000]\n",
    "\n",
    "price_final.reset_index(drop=True,inplace=True)"
   ]
  },
  {
   "cell_type": "code",
   "execution_count": 14,
   "id": "124bc258",
   "metadata": {},
   "outputs": [
    {
     "name": "stdout",
     "output_type": "stream",
     "text": [
      "<class 'pandas.core.frame.DataFrame'>\n",
      "RangeIndex: 25209 entries, 0 to 25208\n",
      "Data columns (total 3 columns):\n",
      " #   Column       Non-Null Count  Dtype \n",
      "---  ------       --------------  ----- \n",
      " 0   listing_id   25209 non-null  int64 \n",
      " 1   description  25199 non-null  object\n",
      " 2   room_type    25209 non-null  object\n",
      "dtypes: int64(1), object(2)\n",
      "memory usage: 591.0+ KB\n"
     ]
    }
   ],
   "source": [
    "# Cleaning room dataset\n",
    "\n",
    "rooms.info()"
   ]
  },
  {
   "cell_type": "code",
   "execution_count": 15,
   "id": "43f28efe",
   "metadata": {},
   "outputs": [],
   "source": [
    "# converting listing_id category into int to string\n",
    "\n",
    "rooms.listing_id = rooms.listing_id.astype('str')"
   ]
  },
  {
   "cell_type": "code",
   "execution_count": 16,
   "id": "3976d41f",
   "metadata": {},
   "outputs": [
    {
     "data": {
      "text/plain": [
       "array(['Entire home/apt', 'private room', 'Private room',\n",
       "       'entire home/apt', 'PRIVATE ROOM', 'shared room',\n",
       "       'ENTIRE HOME/APT', 'Shared room', 'SHARED ROOM'], dtype=object)"
      ]
     },
     "execution_count": 16,
     "metadata": {},
     "output_type": "execute_result"
    }
   ],
   "source": [
    "# checking for different room type category\n",
    "\n",
    "rooms.room_type.unique()"
   ]
  },
  {
   "cell_type": "code",
   "execution_count": 17,
   "id": "718ca70f",
   "metadata": {},
   "outputs": [],
   "source": [
    "# convert categories into same format\n",
    "\n",
    "rooms['room_type']=rooms.room_type.str.capitalize().astype('category')"
   ]
  },
  {
   "cell_type": "code",
   "execution_count": 18,
   "id": "ac4a3fc9",
   "metadata": {},
   "outputs": [
    {
     "name": "stdout",
     "output_type": "stream",
     "text": [
      "<class 'pandas.core.frame.DataFrame'>\n",
      "RangeIndex: 25209 entries, 0 to 25208\n",
      "Data columns (total 3 columns):\n",
      " #   Column       Non-Null Count  Dtype \n",
      "---  ------       --------------  ----- \n",
      " 0   listing_id   25209 non-null  int64 \n",
      " 1   host_name    25201 non-null  object\n",
      " 2   last_review  25209 non-null  object\n",
      "dtypes: int64(1), object(2)\n",
      "memory usage: 591.0+ KB\n"
     ]
    }
   ],
   "source": [
    "# cleaning reviews dataset\n",
    "\n",
    "review.info()"
   ]
  },
  {
   "cell_type": "code",
   "execution_count": 19,
   "id": "1ef9ee61",
   "metadata": {},
   "outputs": [],
   "source": [
    "# converting listing_id from int into string\n",
    "\n",
    "review.listing_id = review.listing_id.astype('str')"
   ]
  },
  {
   "cell_type": "code",
   "execution_count": 20,
   "id": "bc58e1e7",
   "metadata": {},
   "outputs": [],
   "source": [
    "# split last review date into year, month and day\n",
    "\n",
    "review['year_of_review']=pd.to_datetime(review.last_review).dt.strftime('%Y')\n",
    "review['month_of_review']=pd.to_datetime(review.last_review).dt.strftime('%b')\n",
    "review['day_of_review']=pd.to_datetime(review.last_review).dt.strftime('%d')\n"
   ]
  },
  {
   "cell_type": "code",
   "execution_count": 28,
   "id": "4587c458",
   "metadata": {},
   "outputs": [],
   "source": [
    "# Merging datasets\n",
    "\n",
    "first_merge=price_final.merge(rooms,how='inner',on='listing_id')\n",
    "final_data=first_merge.merge(review,how='inner',on='listing_id')"
   ]
  },
  {
   "cell_type": "code",
   "execution_count": 29,
   "id": "ef307c15",
   "metadata": {},
   "outputs": [
    {
     "data": {
      "text/html": [
       "<div>\n",
       "<style scoped>\n",
       "    .dataframe tbody tr th:only-of-type {\n",
       "        vertical-align: middle;\n",
       "    }\n",
       "\n",
       "    .dataframe tbody tr th {\n",
       "        vertical-align: top;\n",
       "    }\n",
       "\n",
       "    .dataframe thead th {\n",
       "        text-align: right;\n",
       "    }\n",
       "</style>\n",
       "<table border=\"1\" class=\"dataframe\">\n",
       "  <thead>\n",
       "    <tr style=\"text-align: right;\">\n",
       "      <th></th>\n",
       "      <th>listing_id</th>\n",
       "      <th>price_dollars</th>\n",
       "      <th>boroughs</th>\n",
       "      <th>areas</th>\n",
       "      <th>description</th>\n",
       "      <th>room_type</th>\n",
       "      <th>host_name</th>\n",
       "      <th>year_of_review</th>\n",
       "      <th>month_of_review</th>\n",
       "      <th>day_of_review</th>\n",
       "    </tr>\n",
       "  </thead>\n",
       "  <tbody>\n",
       "    <tr>\n",
       "      <th>0</th>\n",
       "      <td>2595</td>\n",
       "      <td>225</td>\n",
       "      <td>Manhattan</td>\n",
       "      <td>Midtown</td>\n",
       "      <td>Skylit Midtown Castle</td>\n",
       "      <td>Entire home/apt</td>\n",
       "      <td>Jennifer</td>\n",
       "      <td>2019</td>\n",
       "      <td>May</td>\n",
       "      <td>21</td>\n",
       "    </tr>\n",
       "    <tr>\n",
       "      <th>1</th>\n",
       "      <td>3831</td>\n",
       "      <td>89</td>\n",
       "      <td>Brooklyn</td>\n",
       "      <td>Clinton Hill</td>\n",
       "      <td>Cozy Entire Floor of Brownstone</td>\n",
       "      <td>Entire home/apt</td>\n",
       "      <td>LisaRoxanne</td>\n",
       "      <td>2019</td>\n",
       "      <td>Jul</td>\n",
       "      <td>05</td>\n",
       "    </tr>\n",
       "    <tr>\n",
       "      <th>2</th>\n",
       "      <td>5099</td>\n",
       "      <td>200</td>\n",
       "      <td>Manhattan</td>\n",
       "      <td>Murray Hill</td>\n",
       "      <td>Large Cozy 1 BR Apartment In Midtown East</td>\n",
       "      <td>Entire home/apt</td>\n",
       "      <td>Chris</td>\n",
       "      <td>2019</td>\n",
       "      <td>Jun</td>\n",
       "      <td>22</td>\n",
       "    </tr>\n",
       "    <tr>\n",
       "      <th>3</th>\n",
       "      <td>5178</td>\n",
       "      <td>79</td>\n",
       "      <td>Manhattan</td>\n",
       "      <td>Hell's Kitchen</td>\n",
       "      <td>Large Furnished Room Near B'way</td>\n",
       "      <td>Private room</td>\n",
       "      <td>Shunichi</td>\n",
       "      <td>2019</td>\n",
       "      <td>Jun</td>\n",
       "      <td>24</td>\n",
       "    </tr>\n",
       "    <tr>\n",
       "      <th>4</th>\n",
       "      <td>5238</td>\n",
       "      <td>150</td>\n",
       "      <td>Manhattan</td>\n",
       "      <td>Chinatown</td>\n",
       "      <td>Cute &amp; Cozy Lower East Side 1 bdrm</td>\n",
       "      <td>Entire home/apt</td>\n",
       "      <td>Ben</td>\n",
       "      <td>2019</td>\n",
       "      <td>Jun</td>\n",
       "      <td>09</td>\n",
       "    </tr>\n",
       "    <tr>\n",
       "      <th>...</th>\n",
       "      <td>...</td>\n",
       "      <td>...</td>\n",
       "      <td>...</td>\n",
       "      <td>...</td>\n",
       "      <td>...</td>\n",
       "      <td>...</td>\n",
       "      <td>...</td>\n",
       "      <td>...</td>\n",
       "      <td>...</td>\n",
       "      <td>...</td>\n",
       "    </tr>\n",
       "    <tr>\n",
       "      <th>25196</th>\n",
       "      <td>36425863</td>\n",
       "      <td>129</td>\n",
       "      <td>Manhattan</td>\n",
       "      <td>Upper East Side</td>\n",
       "      <td>Lovely Privet Bedroom with Privet Restroom</td>\n",
       "      <td>Private room</td>\n",
       "      <td>Rusaa</td>\n",
       "      <td>2019</td>\n",
       "      <td>Jul</td>\n",
       "      <td>07</td>\n",
       "    </tr>\n",
       "    <tr>\n",
       "      <th>25197</th>\n",
       "      <td>36427429</td>\n",
       "      <td>45</td>\n",
       "      <td>Queens</td>\n",
       "      <td>Flushing</td>\n",
       "      <td>No.2 with queen size bed</td>\n",
       "      <td>Private room</td>\n",
       "      <td>H Ai</td>\n",
       "      <td>2019</td>\n",
       "      <td>Jul</td>\n",
       "      <td>07</td>\n",
       "    </tr>\n",
       "    <tr>\n",
       "      <th>25198</th>\n",
       "      <td>36438336</td>\n",
       "      <td>235</td>\n",
       "      <td>Staten Island</td>\n",
       "      <td>Great Kills</td>\n",
       "      <td>Seas The Moment</td>\n",
       "      <td>Private room</td>\n",
       "      <td>Ben</td>\n",
       "      <td>2019</td>\n",
       "      <td>Jul</td>\n",
       "      <td>07</td>\n",
       "    </tr>\n",
       "    <tr>\n",
       "      <th>25199</th>\n",
       "      <td>36442252</td>\n",
       "      <td>100</td>\n",
       "      <td>Bronx</td>\n",
       "      <td>Mott Haven</td>\n",
       "      <td>1B-1B apartment near by Metro</td>\n",
       "      <td>Entire home/apt</td>\n",
       "      <td>Blaine</td>\n",
       "      <td>2019</td>\n",
       "      <td>Jul</td>\n",
       "      <td>07</td>\n",
       "    </tr>\n",
       "    <tr>\n",
       "      <th>25200</th>\n",
       "      <td>36455809</td>\n",
       "      <td>30</td>\n",
       "      <td>Brooklyn</td>\n",
       "      <td>Bushwick</td>\n",
       "      <td>Cozy Private Room in Bushwick, Brooklyn</td>\n",
       "      <td>Private room</td>\n",
       "      <td>Christine</td>\n",
       "      <td>2019</td>\n",
       "      <td>Jul</td>\n",
       "      <td>08</td>\n",
       "    </tr>\n",
       "  </tbody>\n",
       "</table>\n",
       "<p>25201 rows × 10 columns</p>\n",
       "</div>"
      ],
      "text/plain": [
       "      listing_id  price_dollars       boroughs            areas  \\\n",
       "0           2595            225      Manhattan          Midtown   \n",
       "1           3831             89       Brooklyn     Clinton Hill   \n",
       "2           5099            200      Manhattan      Murray Hill   \n",
       "3           5178             79      Manhattan   Hell's Kitchen   \n",
       "4           5238            150      Manhattan        Chinatown   \n",
       "...          ...            ...            ...              ...   \n",
       "25196   36425863            129      Manhattan  Upper East Side   \n",
       "25197   36427429             45         Queens         Flushing   \n",
       "25198   36438336            235  Staten Island      Great Kills   \n",
       "25199   36442252            100          Bronx       Mott Haven   \n",
       "25200   36455809             30       Brooklyn         Bushwick   \n",
       "\n",
       "                                      description        room_type  \\\n",
       "0                           Skylit Midtown Castle  Entire home/apt   \n",
       "1                 Cozy Entire Floor of Brownstone  Entire home/apt   \n",
       "2       Large Cozy 1 BR Apartment In Midtown East  Entire home/apt   \n",
       "3                 Large Furnished Room Near B'way     Private room   \n",
       "4              Cute & Cozy Lower East Side 1 bdrm  Entire home/apt   \n",
       "...                                           ...              ...   \n",
       "25196  Lovely Privet Bedroom with Privet Restroom     Private room   \n",
       "25197                    No.2 with queen size bed     Private room   \n",
       "25198                             Seas The Moment     Private room   \n",
       "25199               1B-1B apartment near by Metro  Entire home/apt   \n",
       "25200     Cozy Private Room in Bushwick, Brooklyn     Private room   \n",
       "\n",
       "         host_name year_of_review month_of_review day_of_review  \n",
       "0         Jennifer           2019             May            21  \n",
       "1      LisaRoxanne           2019             Jul            05  \n",
       "2            Chris           2019             Jun            22  \n",
       "3         Shunichi           2019             Jun            24  \n",
       "4              Ben           2019             Jun            09  \n",
       "...            ...            ...             ...           ...  \n",
       "25196        Rusaa           2019             Jul            07  \n",
       "25197         H Ai           2019             Jul            07  \n",
       "25198          Ben           2019             Jul            07  \n",
       "25199       Blaine           2019             Jul            07  \n",
       "25200    Christine           2019             Jul            08  \n",
       "\n",
       "[25201 rows x 10 columns]"
      ]
     },
     "execution_count": 29,
     "metadata": {},
     "output_type": "execute_result"
    }
   ],
   "source": [
    "final_data"
   ]
  },
  {
   "cell_type": "code",
   "execution_count": null,
   "id": "ce4c93fa",
   "metadata": {},
   "outputs": [],
   "source": []
  }
 ],
 "metadata": {
  "kernelspec": {
   "display_name": "Python 3 (ipykernel)",
   "language": "python",
   "name": "python3"
  },
  "language_info": {
   "codemirror_mode": {
    "name": "ipython",
    "version": 3
   },
   "file_extension": ".py",
   "mimetype": "text/x-python",
   "name": "python",
   "nbconvert_exporter": "python",
   "pygments_lexer": "ipython3",
   "version": "3.9.12"
  }
 },
 "nbformat": 4,
 "nbformat_minor": 5
}
